{
 "cells": [
  {
   "cell_type": "markdown",
   "id": "5a7625d5",
   "metadata": {
    "papermill": {
     "duration": 0.010765,
     "end_time": "2023-08-03T20:13:51.790833",
     "exception": false,
     "start_time": "2023-08-03T20:13:51.780068",
     "status": "completed"
    },
    "tags": []
   },
   "source": [
    "## Import Libraries"
   ]
  },
  {
   "cell_type": "code",
   "execution_count": 0,
   "id": "05907fd3",
   "metadata": {
    "datarobot": {
     "execution_time_millis": 1152
    },
    "execution": {
     "iopub.execute_input": "2023-08-03T20:13:51.808460Z",
     "iopub.status.busy": "2023-08-03T20:13:51.807568Z",
     "iopub.status.idle": "2023-08-03T20:13:54.110605Z",
     "shell.execute_reply": "2023-08-03T20:13:54.109196Z"
    },
    "papermill": {
     "duration": 2.31509,
     "end_time": "2023-08-03T20:13:54.113620",
     "exception": false,
     "start_time": "2023-08-03T20:13:51.798530",
     "status": "completed"
    },
    "tags": []
   },
   "outputs": [],
   "source": [
    "import numpy as np \n",
    "import pandas as pd \n",
    "from sklearn.ensemble import GradientBoostingRegressor, RandomForestRegressor\n",
    "from xgboost import XGBRegressor\n",
    "from sklearn.metrics import mean_squared_error\n",
    "\n",
    "from dataset import clean_and_split_dataset"
   ]
  },
  {
   "cell_type": "code",
   "execution_count": 0,
   "id": "d4399b82",
   "metadata": {
    "collapsed": false,
    "datarobot": {
     "disable_run": false,
     "execution_time_millis": 27,
     "hide_code": false,
     "hide_results": false,
     "language": "python"
    },
    "execution": {
     "iopub.execute_input": "2023-08-03T20:13:54.145935Z",
     "iopub.status.busy": "2023-08-03T20:13:54.145270Z",
     "iopub.status.idle": "2023-08-03T20:13:54.211175Z",
     "shell.execute_reply": "2023-08-03T20:13:54.209950Z"
    },
    "papermill": {
     "duration": 0.077471,
     "end_time": "2023-08-03T20:13:54.214011",
     "exception": false,
     "start_time": "2023-08-03T20:13:54.136540",
     "status": "completed"
    },
    "scrolled": "auto",
    "tags": []
   },
   "outputs": [],
   "source": [
    "data = pd.read_csv('/home/notebooks/storage/data/Boston.csv')\n",
    "data"
   ]
  },
  {
   "cell_type": "markdown",
   "id": "49b104e1",
   "metadata": {
    "papermill": {
     "duration": 0.01228,
     "end_time": "2023-08-03T20:13:56.031122",
     "exception": false,
     "start_time": "2023-08-03T20:13:56.018842",
     "status": "completed"
    },
    "tags": []
   },
   "source": [
    "### Splitting data for modeling"
   ]
  },
  {
   "cell_type": "code",
   "execution_count": 0,
   "id": "aeaff294",
   "metadata": {
    "datarobot": {
     "execution_time_millis": 5
    },
    "execution": {
     "iopub.execute_input": "2023-08-03T20:13:56.058528Z",
     "iopub.status.busy": "2023-08-03T20:13:56.057388Z",
     "iopub.status.idle": "2023-08-03T20:13:56.066230Z",
     "shell.execute_reply": "2023-08-03T20:13:56.064930Z"
    },
    "papermill": {
     "duration": 0.025447,
     "end_time": "2023-08-03T20:13:56.069216",
     "exception": false,
     "start_time": "2023-08-03T20:13:56.043769",
     "status": "completed"
    },
    "tags": []
   },
   "outputs": [],
   "source": [
    "X_train, X_test, y_train, y_test = clean_and_split_dataset(data)"
   ]
  },
  {
   "cell_type": "markdown",
   "id": "b3b4ac48",
   "metadata": {
    "papermill": {
     "duration": 0.011995,
     "end_time": "2023-08-03T20:13:56.093805",
     "exception": false,
     "start_time": "2023-08-03T20:13:56.081810",
     "status": "completed"
    },
    "tags": []
   },
   "source": [
    "### ML Models"
   ]
  },
  {
   "cell_type": "markdown",
   "id": "c2526764",
   "metadata": {
    "papermill": {
     "duration": 0.011975,
     "end_time": "2023-08-03T20:13:56.118446",
     "exception": false,
     "start_time": "2023-08-03T20:13:56.106471",
     "status": "completed"
    },
    "tags": []
   },
   "source": [
    "**Random Forest Regressor Model**"
   ]
  },
  {
   "cell_type": "code",
   "execution_count": 0,
   "id": "dba5b99f",
   "metadata": {
    "collapsed": false,
    "datarobot": {
     "disable_run": false,
     "execution_time_millis": 187,
     "hide_code": false,
     "hide_results": false,
     "language": "python"
    },
    "execution": {
     "iopub.execute_input": "2023-08-03T20:13:56.145870Z",
     "iopub.status.busy": "2023-08-03T20:13:56.145413Z",
     "iopub.status.idle": "2023-08-03T20:13:56.514722Z",
     "shell.execute_reply": "2023-08-03T20:13:56.513478Z"
    },
    "papermill": {
     "duration": 0.386125,
     "end_time": "2023-08-03T20:13:56.517381",
     "exception": false,
     "start_time": "2023-08-03T20:13:56.131256",
     "status": "completed"
    },
    "scrolled": "auto",
    "tags": []
   },
   "outputs": [],
   "source": [
    "RandomForestRegressorModel = RandomForestRegressor(n_estimators=100, max_depth=7, random_state=0)\n",
    "RandomForestRegressorModel.fit(X_train, y_train)\n",
    "\n",
    "print('Random Forest Regressor Train Score is : ' , RandomForestRegressorModel.score(X_train, y_train))\n",
    "print('Random Forest Regressor Test Score is : ' , RandomForestRegressorModel.score(X_test, y_test))"
   ]
  },
  {
   "cell_type": "code",
   "execution_count": 0,
   "id": "abf510e8",
   "metadata": {
    "datarobot": {
     "execution_time_millis": 13
    },
    "execution": {
     "iopub.execute_input": "2023-08-03T20:13:56.544130Z",
     "iopub.status.busy": "2023-08-03T20:13:56.543708Z",
     "iopub.status.idle": "2023-08-03T20:13:56.568240Z",
     "shell.execute_reply": "2023-08-03T20:13:56.566996Z"
    },
    "papermill": {
     "duration": 0.041008,
     "end_time": "2023-08-03T20:13:56.570968",
     "exception": false,
     "start_time": "2023-08-03T20:13:56.529960",
     "status": "completed"
    },
    "tags": []
   },
   "outputs": [],
   "source": [
    "y_pred_rf = RandomForestRegressorModel.predict(X_test)\n",
    "MSEValue_RF = mean_squared_error(y_test, y_pred_rf, multioutput='uniform_average')\n",
    "print('Mean Absolute Error Value is : ', np.sqrt(MSEValue_RF))"
   ]
  },
  {
   "cell_type": "markdown",
   "id": "72f3af1c",
   "metadata": {
    "papermill": {
     "duration": 0.012403,
     "end_time": "2023-08-03T20:13:56.595851",
     "exception": false,
     "start_time": "2023-08-03T20:13:56.583448",
     "status": "completed"
    },
    "tags": []
   },
   "source": [
    "**Gradient Boosting Regressor**"
   ]
  },
  {
   "cell_type": "code",
   "execution_count": 0,
   "id": "f48d82c7",
   "metadata": {
    "collapsed": false,
    "datarobot": {
     "disable_run": false,
     "execution_time_millis": 121,
     "hide_code": false,
     "hide_results": false,
     "language": "python"
    },
    "execution": {
     "iopub.execute_input": "2023-08-03T20:13:56.622699Z",
     "iopub.status.busy": "2023-08-03T20:13:56.622266Z",
     "iopub.status.idle": "2023-08-03T20:13:56.821854Z",
     "shell.execute_reply": "2023-08-03T20:13:56.820239Z"
    },
    "papermill": {
     "duration": 0.21688,
     "end_time": "2023-08-03T20:13:56.825197",
     "exception": false,
     "start_time": "2023-08-03T20:13:56.608317",
     "status": "completed"
    },
    "scrolled": "auto",
    "tags": []
   },
   "outputs": [],
   "source": [
    "GBRModel = GradientBoostingRegressor(n_estimators=100, max_depth=4, learning_rate = 0.05, random_state=0)\n",
    "GBRModel.fit(X_train, y_train)\n",
    "\n",
    "print('GBRModel Train Score is : ' , GBRModel.score(X_train, y_train))\n",
    "print('GBRModel Test Score is : ' , GBRModel.score(X_test, y_test))"
   ]
  },
  {
   "cell_type": "code",
   "execution_count": 0,
   "id": "57db50c7",
   "metadata": {
    "datarobot": {
     "execution_time_millis": 6
    },
    "execution": {
     "iopub.execute_input": "2023-08-03T20:13:56.853606Z",
     "iopub.status.busy": "2023-08-03T20:13:56.853138Z",
     "iopub.status.idle": "2023-08-03T20:13:56.863556Z",
     "shell.execute_reply": "2023-08-03T20:13:56.862339Z"
    },
    "papermill": {
     "duration": 0.02819,
     "end_time": "2023-08-03T20:13:56.866367",
     "exception": false,
     "start_time": "2023-08-03T20:13:56.838177",
     "status": "completed"
    },
    "tags": []
   },
   "outputs": [],
   "source": [
    "y_pred_gbr = GBRModel.predict(X_test)\n",
    "MSEValue_GB = mean_squared_error(y_test, y_pred_gbr, multioutput='uniform_average')\n",
    "print('Mean Absolute Error Value is : ', np.sqrt(MSEValue_GB))"
   ]
  },
  {
   "cell_type": "markdown",
   "id": "1e54085c",
   "metadata": {
    "papermill": {
     "duration": 0.012353,
     "end_time": "2023-08-03T20:13:56.891549",
     "exception": false,
     "start_time": "2023-08-03T20:13:56.879196",
     "status": "completed"
    },
    "tags": []
   },
   "source": [
    "**XGB Regressor**"
   ]
  },
  {
   "cell_type": "code",
   "execution_count": 0,
   "id": "7723b8f3",
   "metadata": {
    "datarobot": {
     "execution_time_millis": 124
    },
    "execution": {
     "iopub.execute_input": "2023-08-03T20:13:56.919292Z",
     "iopub.status.busy": "2023-08-03T20:13:56.918911Z",
     "iopub.status.idle": "2023-08-03T20:13:57.013936Z",
     "shell.execute_reply": "2023-08-03T20:13:57.012914Z"
    },
    "papermill": {
     "duration": 0.11189,
     "end_time": "2023-08-03T20:13:57.016728",
     "exception": false,
     "start_time": "2023-08-03T20:13:56.904838",
     "status": "completed"
    },
    "tags": []
   },
   "outputs": [],
   "source": [
    "XGBModel = XGBRegressor(n_estimators=100, max_depth=3, eta=0.09, subsample=0.7, colsample_bytree=0.7)\n",
    "XGBModel.fit(X_train, y_train)\n",
    "\n",
    "print('XGBoost Regressor Train Score is : ' , XGBModel.score(X_train, y_train))\n",
    "print('XGBoost Regressor Test Score is : ' , XGBModel.score(X_test, y_test))"
   ]
  },
  {
   "cell_type": "code",
   "execution_count": 0,
   "id": "e0528297",
   "metadata": {
    "datarobot": {
     "execution_time_millis": 7
    },
    "execution": {
     "iopub.execute_input": "2023-08-03T20:13:57.046550Z",
     "iopub.status.busy": "2023-08-03T20:13:57.046174Z",
     "iopub.status.idle": "2023-08-03T20:13:57.057090Z",
     "shell.execute_reply": "2023-08-03T20:13:57.056134Z"
    },
    "papermill": {
     "duration": 0.02806,
     "end_time": "2023-08-03T20:13:57.059949",
     "exception": false,
     "start_time": "2023-08-03T20:13:57.031889",
     "status": "completed"
    },
    "tags": []
   },
   "outputs": [],
   "source": [
    "y_pred_x = XGBModel.predict(X_test)\n",
    "MSEValue_X = mean_squared_error(y_test, y_pred_x, multioutput='uniform_average')\n",
    "print('Mean Squared Error Value by Square root is : ', np.sqrt(MSEValue_X))"
   ]
  }
 ],
 "metadata": {
  "kernelspec": {
   "display_name": "Python 3",
   "language": "python",
   "name": "python3"
  },
  "language_info": {
   "codemirror_mode": {
    "name": "ipython",
    "version": 3
   },
   "file_extension": ".py",
   "mimetype": "text/x-python",
   "name": "python",
   "nbconvert_exporter": "python",
   "pygments_lexer": "ipython3",
   "version": "3.10.12"
  },
  "papermill": {
   "default_parameters": {},
   "duration": 18.266265,
   "end_time": "2023-08-03T20:13:58.097482",
   "environment_variables": {},
   "exception": null,
   "input_path": "__notebook__.ipynb",
   "output_path": "__notebook__.ipynb",
   "parameters": {},
   "start_time": "2023-08-03T20:13:39.831217",
   "version": "2.4.0"
  }
 },
 "nbformat": 4,
 "nbformat_minor": 5
}
